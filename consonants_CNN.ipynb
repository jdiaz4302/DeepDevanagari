{
 "cells": [
  {
   "cell_type": "markdown",
   "metadata": {},
   "source": [
    "## Importing libraries"
   ]
  },
  {
   "cell_type": "code",
   "execution_count": 1,
   "metadata": {
    "collapsed": true
   },
   "outputs": [],
   "source": [
    "import glob\n",
    "import numpy as np\n",
    "from sklearn.model_selection import train_test_split\n",
    "import torch.nn as nn\n",
    "import matplotlib.pyplot as plt\n",
    "%matplotlib inline\n",
    "from sklearn.metrics import confusion_matrix, accuracy_score\n",
    "import pylab\n",
    "pylab.rcParams['figure.figsize'] = (8.25, 6)\n",
    "import itertools\n",
    "import torch\n",
    "from torch.autograd import Variable\n",
    "from PIL import Image\n",
    "import matplotlib.pyplot as plt\n",
    "import torchvision.transforms as transforms"
   ]
  },
  {
   "cell_type": "markdown",
   "metadata": {},
   "source": [
    "## Defining helper functions"
   ]
  },
  {
   "cell_type": "markdown",
   "metadata": {},
   "source": [
    "In case the user has a GPU, this will significantly speed up parameter optimization"
   ]
  },
  {
   "cell_type": "code",
   "execution_count": 2,
   "metadata": {
    "collapsed": true
   },
   "outputs": [],
   "source": [
    "use_cuda = torch.cuda.is_available()\n",
    "dtype = torch.cuda.FloatTensor if use_cuda else torch.FloatTensor"
   ]
  },
  {
   "cell_type": "markdown",
   "metadata": {},
   "source": [
    "Function to import images"
   ]
  },
  {
   "cell_type": "code",
   "execution_count": 3,
   "metadata": {
    "collapsed": false
   },
   "outputs": [],
   "source": [
    "# desired size of the output image\n",
    "imsize = 36\n",
    "\n",
    "loader = transforms.Compose([\n",
    "    transforms.Scale(imsize),  # scale imported image\n",
    "    transforms.ToTensor()])  # transform it into a torch tensor\n",
    "\n",
    "\n",
    "def image_loader(image_name):\n",
    "    image = Image.open(image_name)\n",
    "    image = Variable(loader(image))\n",
    "    # fake batch dimension required to fit network's input dimensions\n",
    "    image = image.unsqueeze(0)\n",
    "    return image"
   ]
  },
  {
   "cell_type": "markdown",
   "metadata": {},
   "source": [
    "Get the images and label them\n",
    "\n",
    "This code block makes use of the fact that images are within files whose filenames contain their labels; using the file extension to create a list of corresponding labels"
   ]
  },
  {
   "cell_type": "code",
   "execution_count": 4,
   "metadata": {
    "collapsed": false
   },
   "outputs": [],
   "source": [
    "label_list = []\n",
    "for numeric_class in glob.glob(\"/home/jeremydiaz/deep_Devanagari/data/consonants/*\"):\n",
    "    label = numeric_class[-2:]\n",
    "    for file_index in range(len(glob.glob(numeric_class + '/*'))):\n",
    "        feature_image = glob.glob(numeric_class + '/*')[file_index]\n",
    "        label_list.append(label)\n",
    "        if label == label_list[0]:\n",
    "            if file_index == 0:\n",
    "                images = image_loader(feature_image)\n",
    "            else:\n",
    "                images = torch.cat([images, image_loader(feature_image).type(dtype)])\n",
    "        else:\n",
    "            images = torch.cat([images, image_loader(feature_image).type(dtype)])"
   ]
  },
  {
   "cell_type": "markdown",
   "metadata": {},
   "source": [
    "### Quick visualization"
   ]
  },
  {
   "cell_type": "markdown",
   "metadata": {},
   "source": [
    "The 123th image and its label"
   ]
  },
  {
   "cell_type": "code",
   "execution_count": 5,
   "metadata": {
    "collapsed": false
   },
   "outputs": [
    {
     "data": {
      "image/png": "[encoded data removed]",
      "text/plain": [
       "<matplotlib.figure.Figure at 0x7f1826668160>"
      ]
     },
     "metadata": {},
     "output_type": "display_data"
    }
   ],
   "source": [
    "# Plotting\n",
    "fig = plt.figure()\n",
    "ax = fig.add_subplot(111)\n",
    "plt.imshow(images[123].data.numpy().reshape((36,36)), cmap = 'gist_gray')\n",
    "ax.annotate(\"Label = \" + label_list[123], xy = (0, 2), color= 'darkorange', fontsize = 25)\n",
    "plt.show()\n",
    "\n",
    "# Getting the labels ready for PyTorch modelling\n",
    "label_list = Variable(torch.from_numpy(np.asarray(label_list, dtype = np.float32)))"
   ]
  },
  {
   "cell_type": "markdown",
   "metadata": {},
   "source": [
    "## Creating train and test sets"
   ]
  },
  {
   "cell_type": "code",
   "execution_count": 6,
   "metadata": {
    "collapsed": false
   },
   "outputs": [],
   "source": [
    "images_train, images_test, Y_train, Y_test = train_test_split(images.data.numpy(),\n",
    "                                                              label_list.data.numpy(),\n",
    "                                                              test_size = 0.25)\n",
    "\n",
    "images_train = Variable(torch.from_numpy(images_train))\n",
    "images_test = Variable(torch.from_numpy(images_test))\n",
    "\n",
    "Y_train = (Y_train - 1)\n",
    "Y_train = Variable(torch.from_numpy(Y_train)).type(torch.LongTensor)\n",
    "Y_test = (Y_test - 1)\n",
    "Y_test = Variable(torch.from_numpy(Y_test)).type(torch.LongTensor)"
   ]
  },
  {
   "cell_type": "markdown",
   "metadata": {},
   "source": [
    "## Defining and training the model"
   ]
  },
  {
   "cell_type": "markdown",
   "metadata": {},
   "source": [
    "Defining the CNN architecture, loss function, and parameter-updating method"
   ]
  },
  {
   "cell_type": "code",
   "execution_count": 7,
   "metadata": {
    "collapsed": false
   },
   "outputs": [],
   "source": [
    "class CNN(nn.Module):\n",
    "    def __init__(self):\n",
    "        super(CNN, self).__init__()\n",
    "        self.layer1 = nn.Sequential(\n",
    "            nn.Conv2d(1, 16, kernel_size = 5, padding = 2),\n",
    "            nn.BatchNorm2d(16),\n",
    "            nn.ReLU(),\n",
    "            nn.MaxPool2d(2))\n",
    "        self.layer2 = nn.Sequential(\n",
    "            nn.Conv2d(16, 32, kernel_size = 5, padding = 2),\n",
    "            nn.BatchNorm2d(32),\n",
    "            nn.ReLU(),\n",
    "            nn.MaxPool2d(2))\n",
    "        self.fc = nn.Linear(9*9*32, 36)\n",
    "        \n",
    "    def forward(self, x):\n",
    "        out = self.layer1(x)\n",
    "        out = self.layer2(out)\n",
    "        out = out.view(out.size(0), -1)\n",
    "        out = self.fc(out)\n",
    "        return out\n",
    "    \n",
    "cnn = CNN()\n",
    "\n",
    "loss_function = nn.CrossEntropyLoss()\n",
    "optimizer = torch.optim.Adam(cnn.parameters())"
   ]
  },
  {
   "cell_type": "markdown",
   "metadata": {},
   "source": [
    "The training"
   ]
  },
  {
   "cell_type": "code",
   "execution_count": 8,
   "metadata": {
    "collapsed": false
   },
   "outputs": [
    {
     "name": "stdout",
     "output_type": "stream",
     "text": [
      "✓ Epoch 0.000000\n",
      "✓ Epoch 40.000000\n",
      "✓ Epoch 80.000000\n",
      "✓ Epoch 120.000000\n",
      "✓ Epoch 160.000000\n",
      "✓ Epoch 200.000000\n"
     ]
    }
   ],
   "source": [
    "loss_list = []\n",
    "test_loss_list = []\n",
    "test_output_list = []\n",
    "\n",
    "for epoch in range(201):\n",
    "    \n",
    "    minibatch_indices = torch.randperm(len(images_train))[0:50]\n",
    "    \n",
    "    minibatch_images = images_train[minibatch_indices]\n",
    "    minibatch_Y = Y_train[minibatch_indices]\n",
    "\n",
    "    optimizer.zero_grad()\n",
    "    \n",
    "    outputs = cnn(minibatch_images)\n",
    "    test_outputs = cnn(images_test)\n",
    "    \n",
    "    loss = loss_function(outputs, minibatch_Y)\n",
    "    test_loss = loss_function(test_outputs, Y_test)\n",
    "    \n",
    "    loss.backward()\n",
    "    optimizer.step()\n",
    "    \n",
    "    loss_list.append(loss.data.numpy()[0])\n",
    "    test_loss_list.append(test_loss.data.numpy()[0])\n",
    "    \n",
    "    if (epoch % 40) == 0:\n",
    "        print('✓ Epoch %0.6f' % epoch)\n",
    "        \n",
    "    if epoch == 200:\n",
    "        \n",
    "        final_test_outputs = test_outputs.data.numpy()\n",
    "        \n",
    "Y_test_list = Y_test.data.numpy().tolist()"
   ]
  },
  {
   "cell_type": "markdown",
   "metadata": {},
   "source": [
    "Visualization of the training"
   ]
  },
  {
   "cell_type": "code",
   "execution_count": 9,
   "metadata": {
    "collapsed": false
   },
   "outputs": [
    {
     "data": {
      "image/png": "[encoded data removed]",
      "text/plain": [
       "<matplotlib.figure.Figure at 0x7f18266689e8>"
      ]
     },
     "metadata": {},
     "output_type": "display_data"
    }
   ],
   "source": [
    "plt.plot(range(201), loss_list, c = 'navy', lw = 5, label = 'Minibatch Loss')\n",
    "plt.plot(range(201), test_loss_list, c = 'orange', lw = 3, label = 'Test Loss')\n",
    "plt.ylabel('Cross Entropy Loss')\n",
    "plt.xlabel('Epoch')\n",
    "plt.legend();"
   ]
  },
  {
   "cell_type": "markdown",
   "metadata": {},
   "source": [
    "## Evaluating performance"
   ]
  },
  {
   "cell_type": "markdown",
   "metadata": {},
   "source": [
    "Predictions are currently in the form of confidence score arrays (length = 36), where true labels are single values (length = 1)\n",
    "\n",
    "The next block converts the highest score's `range()` index into the single-value prediction"
   ]
  },
  {
   "cell_type": "code",
   "execution_count": 10,
   "metadata": {
    "collapsed": false
   },
   "outputs": [],
   "source": [
    "predicted_class_list = []\n",
    "\n",
    "for instance_array in final_test_outputs:\n",
    "    \n",
    "    score_list = []\n",
    "    \n",
    "    for class_index in range(36):\n",
    "        \n",
    "        score_list.append(instance_array[class_index])\n",
    "        \n",
    "        score_array = np.asarray(score_list)\n",
    "        \n",
    "    highest_score = np.max(score_array)\n",
    "    \n",
    "    for class_index2 in range(36):\n",
    "        \n",
    "        if score_list[class_index2] == highest_score:\n",
    "            \n",
    "            predicted_class_list.append(class_index2)"
   ]
  },
  {
   "cell_type": "markdown",
   "metadata": {},
   "source": [
    "### Confusion matrix"
   ]
  },
  {
   "cell_type": "markdown",
   "metadata": {},
   "source": [
    "The confusion matrix is actually too large to view well, so get rid for some `print()`s!"
   ]
  },
  {
   "cell_type": "markdown",
   "metadata": {},
   "source": [
    "Converting arbitrary labels to their Devanagari characters"
   ]
  },
  {
   "cell_type": "code",
   "execution_count": 11,
   "metadata": {
    "collapsed": false
   },
   "outputs": [],
   "source": [
    "label_dict = {0 : 'क', 1 : 'ख', 2 : 'ग', 3 : 'घ', 4 : 'ङ',\n",
    "              5 : 'च', 6 : 'छ', 7 : 'ज', 8 : 'झ', 9 : 'ञ',\n",
    "              10 : 'ट', 11 : 'ठ', 12 : 'ड', 13 : 'ढ', 14 : 'ण',\n",
    "              15 : 'त', 16 : 'थ', 17 : 'द', 18 : 'ध', 19 : 'न',\n",
    "              20 : 'प', 21 : 'फ', 22 : 'ब', 23 : 'भ', 24 : 'म',\n",
    "              25 : 'य', 26 : 'र', 27 : 'ल', 28 : 'व', 29 : 'श',\n",
    "              30 : 'ष', 31 : 'स', 32 : 'ह', 33 : 'क्ष', 34 : 'त्र',\n",
    "              35 : 'ज्ञ'}"
   ]
  },
  {
   "cell_type": "markdown",
   "metadata": {},
   "source": [
    "Printing out accuracy by class, whether the correct label was the most predicted by class, and what the most often confused label was"
   ]
  },
  {
   "cell_type": "code",
   "execution_count": 12,
   "metadata": {
    "collapsed": false,
    "scrolled": false
   },
   "outputs": [
    {
     "name": "stdout",
     "output_type": "stream",
     "text": [
      "-----------------------------------------------------------\n",
      "For class क, prediction accuracy was...\n",
      "0.901960784314\n",
      "क is, in fact, the most predicted label for this class\n",
      "क is most often confused with फ\n",
      "    this confusion occurs 0.078431 of the time\n",
      "\n",
      "-----------------------------------------------------------\n",
      "For class ख, prediction accuracy was...\n",
      "0.895833333333\n",
      "ख is, in fact, the most predicted label for this class\n",
      "ख is most often confused with ज्ञ\n",
      "    this confusion occurs 0.020833 of the time\n",
      "\n",
      "-----------------------------------------------------------\n",
      "For class ग, prediction accuracy was...\n",
      "0.75\n",
      "ग is, in fact, the most predicted label for this class\n",
      "ग is most often confused with ण\n",
      "    this confusion occurs 0.102941 of the time\n",
      "\n",
      "-----------------------------------------------------------\n",
      "For class घ, prediction accuracy was...\n",
      "0.717391304348\n",
      "घ is, in fact, the most predicted label for this class\n",
      "घ is most often confused with ध\n",
      "    this confusion occurs 0.108696 of the time\n",
      "\n",
      "-----------------------------------------------------------\n",
      "For class ङ, prediction accuracy was...\n",
      "0.69387755102\n",
      "ङ is, in fact, the most predicted label for this class\n",
      "ङ is most often confused with ड\n",
      "    this confusion occurs 0.265306 of the time\n",
      "\n",
      "-----------------------------------------------------------\n",
      "For class च, prediction accuracy was...\n",
      "0.890909090909\n",
      "च is, in fact, the most predicted label for this class\n",
      "च is most often confused with घ\n",
      "    this confusion occurs 0.036364 of the time\n",
      "\n",
      "-----------------------------------------------------------\n",
      "For class छ, prediction accuracy was...\n",
      "0.77358490566\n",
      "छ is, in fact, the most predicted label for this class\n",
      "छ is most often confused with ह\n",
      "    this confusion occurs 0.056604 of the time\n",
      "\n",
      "-----------------------------------------------------------\n",
      "For class ज, prediction accuracy was...\n",
      "0.777777777778\n",
      "ज is, in fact, the most predicted label for this class\n",
      "ज is most often confused with न\n",
      "    this confusion occurs 0.074074 of the time\n",
      "\n",
      "-----------------------------------------------------------\n",
      "For class झ, prediction accuracy was...\n",
      "0.688888888889\n",
      "झ is, in fact, the most predicted label for this class\n",
      "झ is most often confused with क\n",
      "    this confusion occurs 0.066667 of the time\n",
      "\n",
      "-----------------------------------------------------------\n",
      "For class ञ, prediction accuracy was...\n",
      "0.6875\n",
      "ञ is, in fact, the most predicted label for this class\n",
      "ञ is most often confused with त्र\n",
      "    this confusion occurs 0.166667 of the time\n",
      "\n",
      "-----------------------------------------------------------\n",
      "For class ट, prediction accuracy was...\n",
      "0.907407407407\n",
      "ट is, in fact, the most predicted label for this class\n",
      "ट is most often confused with त\n",
      "    this confusion occurs 0.037037 of the time\n",
      "\n",
      "-----------------------------------------------------------\n",
      "For class ठ, prediction accuracy was...\n",
      "0.854838709677\n",
      "ठ is, in fact, the most predicted label for this class\n",
      "ठ is most often confused with ह\n",
      "    this confusion occurs 0.032258 of the time\n",
      "\n",
      "-----------------------------------------------------------\n",
      "For class ड, prediction accuracy was...\n",
      "0.954545454545\n",
      "ड is, in fact, the most predicted label for this class\n",
      "ड is most often confused with न\n",
      "    this confusion occurs 0.022727 of the time\n",
      "\n",
      "-----------------------------------------------------------\n",
      "For class ढ, prediction accuracy was...\n",
      "0.578947368421\n",
      "ढ is, in fact, the most predicted label for this class\n",
      "ढ is most often confused with ठ\n",
      "    this confusion occurs 0.175439 of the time\n",
      "\n",
      "-----------------------------------------------------------\n",
      "For class ण, prediction accuracy was...\n",
      "0.98\n",
      "ण is, in fact, the most predicted label for this class\n",
      "ण is most often confused with ज\n",
      "    this confusion occurs 0.020000 of the time\n",
      "\n",
      "-----------------------------------------------------------\n",
      "For class त, prediction accuracy was...\n",
      "0.764705882353\n",
      "त is, in fact, the most predicted label for this class\n",
      "त is most often confused with न\n",
      "    this confusion occurs 0.117647 of the time\n",
      "\n",
      "-----------------------------------------------------------\n",
      "For class थ, prediction accuracy was...\n",
      "0.604166666667\n",
      "थ is, in fact, the most predicted label for this class\n",
      "थ is most often confused with ध\n",
      "    this confusion occurs 0.125000 of the time\n",
      "\n",
      "-----------------------------------------------------------\n",
      "For class द, prediction accuracy was...\n",
      "0.83606557377\n",
      "द is, in fact, the most predicted label for this class\n",
      "द is most often confused with व\n",
      "    this confusion occurs 0.032787 of the time\n",
      "\n",
      "-----------------------------------------------------------\n",
      "For class ध, prediction accuracy was...\n",
      "0.78431372549\n",
      "ध is, in fact, the most predicted label for this class\n",
      "ध is most often confused with थ\n",
      "    this confusion occurs 0.098039 of the time\n",
      "\n",
      "-----------------------------------------------------------\n",
      "For class न, prediction accuracy was...\n",
      "0.787234042553\n",
      "न is, in fact, the most predicted label for this class\n",
      "न is most often confused with ल\n",
      "    this confusion occurs 0.042553 of the time\n",
      "\n",
      "-----------------------------------------------------------\n",
      "For class प, prediction accuracy was...\n",
      "0.796610169492\n",
      "प is, in fact, the most predicted label for this class\n",
      "प is most often confused with य\n",
      "    this confusion occurs 0.084746 of the time\n",
      "\n",
      "-----------------------------------------------------------\n",
      "For class फ, prediction accuracy was...\n",
      "0.884615384615\n",
      "फ is, in fact, the most predicted label for this class\n",
      "फ is most often confused with क\n",
      "    this confusion occurs 0.076923 of the time\n",
      "\n",
      "-----------------------------------------------------------\n",
      "For class ब, prediction accuracy was...\n",
      "0.507936507937\n",
      "ब is, in fact, the most predicted label for this class\n",
      "ब is most often confused with व\n",
      "    this confusion occurs 0.222222 of the time\n",
      "\n",
      "-----------------------------------------------------------\n",
      "For class भ, prediction accuracy was...\n",
      "0.822222222222\n",
      "भ is, in fact, the most predicted label for this class\n",
      "भ is most often confused with म\n",
      "    this confusion occurs 0.066667 of the time\n",
      "\n",
      "-----------------------------------------------------------\n",
      "For class म, prediction accuracy was...\n",
      "0.733333333333\n",
      "म is, in fact, the most predicted label for this class\n",
      "म is most often confused with य\n",
      "    this confusion occurs 0.044444 of the time\n",
      "\n",
      "-----------------------------------------------------------\n",
      "For class य, prediction accuracy was...\n",
      "0.829787234043\n",
      "य is, in fact, the most predicted label for this class\n",
      "य is most often confused with त्र\n",
      "    this confusion occurs 0.042553 of the time\n",
      "\n",
      "-----------------------------------------------------------\n",
      "For class र, prediction accuracy was...\n",
      "0.770833333333\n",
      "र is, in fact, the most predicted label for this class\n",
      "र is most often confused with ह\n",
      "    this confusion occurs 0.062500 of the time\n",
      "\n",
      "-----------------------------------------------------------\n",
      "For class ल, prediction accuracy was...\n",
      "0.791666666667\n",
      "ल is, in fact, the most predicted label for this class\n",
      "ल is most often confused with त\n",
      "    this confusion occurs 0.125000 of the time\n",
      "\n",
      "-----------------------------------------------------------\n",
      "For class व, prediction accuracy was...\n",
      "0.762711864407\n",
      "व is, in fact, the most predicted label for this class\n",
      "व is most often confused with न\n",
      "    this confusion occurs 0.050847 of the time\n",
      "\n",
      "-----------------------------------------------------------\n",
      "For class श, prediction accuracy was...\n",
      "0.921568627451\n",
      "श is, in fact, the most predicted label for this class\n",
      "श is most often confused with क\n",
      "    this confusion occurs 0.019608 of the time\n",
      "\n",
      "-----------------------------------------------------------\n",
      "For class ष, prediction accuracy was...\n",
      "0.846153846154\n",
      "ष is, in fact, the most predicted label for this class\n",
      "ष is most often confused with ण\n",
      "    this confusion occurs 0.096154 of the time\n",
      "\n",
      "-----------------------------------------------------------\n",
      "For class स, prediction accuracy was...\n",
      "0.736842105263\n",
      "स is, in fact, the most predicted label for this class\n",
      "स is most often confused with र\n",
      "    this confusion occurs 0.052632 of the time\n",
      "\n",
      "-----------------------------------------------------------\n",
      "For class ह, prediction accuracy was...\n",
      "0.97619047619\n",
      "ह is, in fact, the most predicted label for this class\n",
      "ह is most often confused with ट\n",
      "    this confusion occurs 0.023810 of the time\n",
      "\n",
      "-----------------------------------------------------------\n",
      "For class क्ष, prediction accuracy was...\n",
      "0.928571428571\n",
      "क्ष is, in fact, the most predicted label for this class\n",
      "क्ष is most often confused with ज्ञ\n",
      "    this confusion occurs 0.017857 of the time\n",
      "\n",
      "-----------------------------------------------------------\n",
      "For class त्र, prediction accuracy was...\n",
      "0.957446808511\n",
      "त्र is, in fact, the most predicted label for this class\n",
      "त्र is most often confused with व\n",
      "    this confusion occurs 0.021277 of the time\n",
      "\n",
      "-----------------------------------------------------------\n",
      "For class ज्ञ, prediction accuracy was...\n",
      "0.775510204082\n",
      "ज्ञ is, in fact, the most predicted label for this class\n",
      "ज्ञ is most often confused with क्ष\n",
      "    this confusion occurs 0.040816 of the time\n",
      "\n"
     ]
    }
   ],
   "source": [
    "for y in range(36):\n",
    "    print('-----------------------------------------------------------')\n",
    "    print('For class ' + label_dict[y] +  ', prediction accuracy was...')\n",
    "    print(confusion_matrix(Y_test_list, predicted_class_list)[y][y] / sum(confusion_matrix(Y_test_list, predicted_class_list)[y]))\n",
    "    most_predicted_by_label = np.argsort(confusion_matrix(Y_test_list, predicted_class_list)[y])[-1]\n",
    "    if y == most_predicted_by_label:\n",
    "        print(label_dict[y] + ' is, in fact, the most predicted label for this class')\n",
    "        second_most_predicted_by_label = np.argsort(confusion_matrix(Y_test_list, predicted_class_list)[y])[-2]\n",
    "        print(label_dict[y] + ' is most often confused with ' + label_dict[second_most_predicted_by_label])\n",
    "        print('    this confusion occurs %0.6f of the time' % (confusion_matrix(Y_test_list, predicted_class_list)[y][second_most_predicted_by_label] / sum(confusion_matrix(Y_test_list, predicted_class_list)[y])))\n",
    "    else:\n",
    "        print('WARNING')\n",
    "        print('THIS CLASS HAS PARTICULARLY POOR PERFORMANCE')\n",
    "    print('')"
   ]
  },
  {
   "cell_type": "markdown",
   "metadata": {},
   "source": [
    "### Accuracy"
   ]
  },
  {
   "cell_type": "code",
   "execution_count": 13,
   "metadata": {
    "collapsed": false
   },
   "outputs": [
    {
     "name": "stdout",
     "output_type": "stream",
     "text": [
      "This convolutional neural network was able classify Devanagari consonants with 79.945799% accuracy!\n"
     ]
    }
   ],
   "source": [
    "print(\"This convolutional neural network was able classify Devanagari consonants with %0.6f\" % (accuracy_score(Y_test_list, predicted_class_list) * 100) + \"% accuracy!\")"
   ]
  },
  {
   "cell_type": "markdown",
   "metadata": {},
   "source": [
    "## Performance gallery"
   ]
  },
  {
   "cell_type": "markdown",
   "metadata": {},
   "source": [
    "Plotting 3 randomly selected test set images, along with their true and predicted labels"
   ]
  },
  {
   "cell_type": "code",
   "execution_count": 14,
   "metadata": {
    "collapsed": false
   },
   "outputs": [
    {
     "data": {
      "image/png": "[encoded data removed]",
      "text/plain": [
       "<matplotlib.figure.Figure at 0x7f1825ed6358>"
      ]
     },
     "metadata": {},
     "output_type": "display_data"
    }
   ],
   "source": [
    "# The random selection\n",
    "randomized_index = np.random.choice(len(images_test))\n",
    "\n",
    "# Plotting\n",
    "fig = plt.figure()\n",
    "ax = fig.add_subplot(111)\n",
    "plt.imshow(images_test[randomized_index].data.numpy().reshape((36, 36)), cmap = 'gist_gray')\n",
    "ax.annotate(\"True label = \" + str(Y_test_list[randomized_index]), xy = (0, 2), color= 'darkorange', fontsize = 25)\n",
    "ax.annotate(\"Predicted label = \" + str(predicted_class_list[randomized_index]), xy = (0, 5), color= 'darkorange', fontsize = 25)\n",
    "plt.show()"
   ]
  },
  {
   "cell_type": "code",
   "execution_count": 15,
   "metadata": {
    "collapsed": false
   },
   "outputs": [
    {
     "data": {
      "image/png": "[encoded data removed]",
      "text/plain": [
       "<matplotlib.figure.Figure at 0x7f1825f01198>"
      ]
     },
     "metadata": {},
     "output_type": "display_data"
    }
   ],
   "source": [
    "# The random selection\n",
    "randomized_index = np.random.choice(len(images_test))\n",
    "\n",
    "# Plotting\n",
    "fig = plt.figure()\n",
    "ax = fig.add_subplot(111)\n",
    "plt.imshow(images_test[randomized_index].data.numpy().reshape((36, 36)), cmap = 'gist_gray')\n",
    "ax.annotate(\"True label = \" + str(Y_test_list[randomized_index]), xy = (0, 2), color= 'darkorange', fontsize = 25)\n",
    "ax.annotate(\"Predicted label = \" + str(predicted_class_list[randomized_index]), xy = (0, 5), color= 'darkorange', fontsize = 25)\n",
    "plt.show()"
   ]
  },
  {
   "cell_type": "code",
   "execution_count": 16,
   "metadata": {
    "collapsed": false
   },
   "outputs": [
    {
     "data": {
      "image/png": "[encoded data removed]",
      "text/plain": [
       "<matplotlib.figure.Figure at 0x7f1825e497b8>"
      ]
     },
     "metadata": {},
     "output_type": "display_data"
    }
   ],
   "source": [
    "# The random selection\n",
    "randomized_index = np.random.choice(len(images_test))\n",
    "\n",
    "# Plotting\n",
    "fig = plt.figure()\n",
    "ax = fig.add_subplot(111)\n",
    "plt.imshow(images_test[randomized_index].data.numpy().reshape((36, 36)), cmap = 'gist_gray')\n",
    "ax.annotate(\"True label = \" + str(Y_test_list[randomized_index]), xy = (0, 2), color= 'darkorange', fontsize = 25)\n",
    "ax.annotate(\"Predicted label = \" + str(predicted_class_list[randomized_index]), xy = (0, 5), color= 'darkorange', fontsize = 25)\n",
    "plt.show()"
   ]
  }
 ],
 "metadata": {
  "kernelspec": {
   "display_name": "Python 3",
   "language": "python",
   "name": "python3"
  },
  "language_info": {
   "codemirror_mode": {
    "name": "ipython",
    "version": 3
   },
   "file_extension": ".py",
   "mimetype": "text/x-python",
   "name": "python",
   "nbconvert_exporter": "python",
   "pygments_lexer": "ipython3",
   "version": "3.6.4"
  }
 },
 "nbformat": 4,
 "nbformat_minor": 2
}
